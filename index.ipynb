{
 "cells": [
  {
   "cell_type": "code",
   "execution_count": 1,
   "id": "15829b37-2a90-4712-826a-a2e5fbd0c565",
   "metadata": {},
   "outputs": [],
   "source": [
    "# Python3"
   ]
  },
  {
   "cell_type": "code",
   "execution_count": 4,
   "id": "baaafb4f-fdba-4ce7-be47-6fd7f38d32b0",
   "metadata": {},
   "outputs": [],
   "source": [
    "import pandas as pd\n",
    "import qgrid\n",
    "import spacy\n",
    "from IPython.display import display, HTML, IFrame\n",
    "from pyvis.network import Network\n",
    "from spacy import displacy"
   ]
  },
  {
   "cell_type": "code",
   "execution_count": 5,
   "id": "bc76b210-0467-4dce-b89b-7c26ace89fa8",
   "metadata": {},
   "outputs": [],
   "source": [
    "nlp = spacy.load('en_core_web_lg')"
   ]
  },
  {
   "cell_type": "code",
   "execution_count": 6,
   "id": "84ceba40-c8a2-4017-a6ce-1aeab14f1169",
   "metadata": {},
   "outputs": [],
   "source": [
    "text = 'Bruce works for Iron Maiden as a pilot and sometimes as a singer. He lives in a castle in Coventry.'"
   ]
  },
  {
   "cell_type": "code",
   "execution_count": 7,
   "id": "c65bc469-015f-43d9-8967-31fe9b2be80e",
   "metadata": {},
   "outputs": [],
   "source": [
    "doc = nlp(text)"
   ]
  },
  {
   "cell_type": "code",
   "execution_count": 8,
   "id": "6e941a6c-4460-4b5f-96a1-d47c854aec19",
   "metadata": {},
   "outputs": [],
   "source": [
    "# On doc:\n",
    "#     lang_\n",
    "#     cats\n",
    "#     ents\n",
    "#     noun_chunks\n",
    "#     sentiment\n",
    "\n",
    "# On tokens:\n",
    "#     i\n",
    "#     idx\n",
    "#     text\n",
    "#     lemma_\n",
    "#     shape_\n",
    "#     pos_\n",
    "#     tag_\n",
    "#     dep_\n",
    "#     ent_iob_\n",
    "#     ent_type_\n",
    "#     head\n",
    "#     children\n",
    "\n",
    "#     n_lefts\n",
    "#     lefts\n",
    "#     left_edge\n",
    "#     n_rights\n",
    "#     rights\n",
    "#     right_edge\n",
    "\n",
    "#     lex\n",
    "#     sentiment\n",
    "\n",
    "#     is_ascii\n",
    "#     is_alpha\n",
    "#     is_digit\n",
    "#     is_currency\n",
    "\n",
    "#     is_lower\n",
    "#     is_upper\n",
    "#     is_title\n",
    "\n",
    "#     is_punct\n",
    "#     is_left_punct\n",
    "#     is_right_punct\n",
    "#     is_bracket\n",
    "#     is_stop\n",
    "#     is_space\n",
    "\n",
    "#     is_sent_start\n",
    "#     is_sent_end\n",
    "\n",
    "#     is_quote\n",
    "#     is_oov\n",
    "\n",
    "#     like_num\n",
    "#     like_url\n",
    "#     like_email"
   ]
  },
  {
   "cell_type": "code",
   "execution_count": 9,
   "id": "5d9074ac-7875-438c-bfbb-577920451057",
   "metadata": {},
   "outputs": [
    {
     "data": {
      "text/html": [
       "<span class=\"tex2jax_ignore\"><div class=\"entities\" style=\"line-height: 2.5; direction: ltr\"><mark class=\"entity\" style=\"background: #49BAF2; padding: 0.45em 0.6em; margin: 0 0.25em; line-height: 1; border-radius: 0.35em;\">Bruce<span style=\"font-size: 0.8em; font-weight: bold; line-height: 1; border-radius: 0.35em; vertical-align: middle; margin-left: 0.5rem\">PERSON</span></mark> works for <mark class=\"entity\" style=\"background: #49BAF2; padding: 0.45em 0.6em; margin: 0 0.25em; line-height: 1; border-radius: 0.35em;\">Iron Maiden<span style=\"font-size: 0.8em; font-weight: bold; line-height: 1; border-radius: 0.35em; vertical-align: middle; margin-left: 0.5rem\">PERSON</span></mark> as a pilot and sometimes as a singer. He lives in a castle in <mark class=\"entity\" style=\"background: #A7CC7B; padding: 0.45em 0.6em; margin: 0 0.25em; line-height: 1; border-radius: 0.35em;\">Coventry<span style=\"font-size: 0.8em; font-weight: bold; line-height: 1; border-radius: 0.35em; vertical-align: middle; margin-left: 0.5rem\">GPE</span></mark>.</div></span>"
      ],
      "text/plain": [
       "<IPython.core.display.HTML object>"
      ]
     },
     "metadata": {},
     "output_type": "display_data"
    }
   ],
   "source": [
    "displacy_options_ent = {\n",
    "    'colors': {\n",
    "        '': '#EBEBEB',\n",
    "\n",
    "        'PERSON': '#49BAF2',\n",
    "\n",
    "        'ORG': '#F7B24B',\n",
    "\n",
    "        'GPE': '#A7CC7B',\n",
    "        'LOC': '#A7CC7B',\n",
    "        'FAC': '#A7CC7B',\n",
    "        'NORP': '#D0F2AA',\n",
    "\n",
    "        'DATE': '#D273FF',\n",
    "        'TIME': '#D273FF',\n",
    "        'EVENT': '#D273FF',\n",
    "\n",
    "        'CARDINAL': '#FFCC33',\n",
    "        'ORDINAL': '#FFCC33',\n",
    "        'QUANTITY': '#FFCC33',\n",
    "        'PERCENT': '#FFCC33',\n",
    "        'MONEY': '#FFCC33',\n",
    "\n",
    "        'PRODUCT': '#2BD881',\n",
    "        'WORK_OF_ART': '#2BD881',\n",
    "\n",
    "        'LANGUAGE': '#FF974D',\n",
    "        'LAW': '#469BB4',\n",
    "    },\n",
    "}\n",
    "html_ents = displacy.render(\n",
    "    doc,\n",
    "    minify = True,\n",
    "    style = 'ent',\n",
    "    options = displacy_options_ent,\n",
    ")"
   ]
  },
  {
   "cell_type": "code",
   "execution_count": 10,
   "id": "3d0f6af8-c862-4978-85ac-7a6a3ce90415",
   "metadata": {
    "scrolled": false
   },
   "outputs": [
    {
     "data": {
      "text/html": [
       "<span class=\"tex2jax_ignore\"><svg xmlns=\"http://www.w3.org/2000/svg\" xmlns:xlink=\"http://www.w3.org/1999/xlink\" xml:lang=\"en\" id=\"83b77949c32248319d1baf0ce16dd1ac-0\" class=\"displacy\" width=\"3350\" height=\"662.0\" direction=\"ltr\" style=\"max-width: none; height: 662.0px; color: #515C99; background: #ffffff; font-family: Gill Sans; direction: ltr\"><text class=\"displacy-token\" fill=\"currentColor\" text-anchor=\"middle\" y=\"572.0\"><tspan class=\"displacy-word\" fill=\"currentColor\" x=\"50\">Bruce</tspan><tspan class=\"displacy-tag\" dy=\"2em\" fill=\"currentColor\" x=\"50\">PROPN</tspan></text><text class=\"displacy-token\" fill=\"currentColor\" text-anchor=\"middle\" y=\"572.0\"><tspan class=\"displacy-word\" fill=\"currentColor\" x=\"200\">works</tspan><tspan class=\"displacy-tag\" dy=\"2em\" fill=\"currentColor\" x=\"200\">VERB</tspan></text><text class=\"displacy-token\" fill=\"currentColor\" text-anchor=\"middle\" y=\"572.0\"><tspan class=\"displacy-word\" fill=\"currentColor\" x=\"350\">for</tspan><tspan class=\"displacy-tag\" dy=\"2em\" fill=\"currentColor\" x=\"350\">ADP</tspan></text><text class=\"displacy-token\" fill=\"currentColor\" text-anchor=\"middle\" y=\"572.0\"><tspan class=\"displacy-word\" fill=\"currentColor\" x=\"500\">Iron</tspan><tspan class=\"displacy-tag\" dy=\"2em\" fill=\"currentColor\" x=\"500\">PROPN</tspan></text><text class=\"displacy-token\" fill=\"currentColor\" text-anchor=\"middle\" y=\"572.0\"><tspan class=\"displacy-word\" fill=\"currentColor\" x=\"650\">Maiden</tspan><tspan class=\"displacy-tag\" dy=\"2em\" fill=\"currentColor\" x=\"650\">PROPN</tspan></text><text class=\"displacy-token\" fill=\"currentColor\" text-anchor=\"middle\" y=\"572.0\"><tspan class=\"displacy-word\" fill=\"currentColor\" x=\"800\">as</tspan><tspan class=\"displacy-tag\" dy=\"2em\" fill=\"currentColor\" x=\"800\">ADP</tspan></text><text class=\"displacy-token\" fill=\"currentColor\" text-anchor=\"middle\" y=\"572.0\"><tspan class=\"displacy-word\" fill=\"currentColor\" x=\"950\">a</tspan><tspan class=\"displacy-tag\" dy=\"2em\" fill=\"currentColor\" x=\"950\">DET</tspan></text><text class=\"displacy-token\" fill=\"currentColor\" text-anchor=\"middle\" y=\"572.0\"><tspan class=\"displacy-word\" fill=\"currentColor\" x=\"1100\">pilot</tspan><tspan class=\"displacy-tag\" dy=\"2em\" fill=\"currentColor\" x=\"1100\">NOUN</tspan></text><text class=\"displacy-token\" fill=\"currentColor\" text-anchor=\"middle\" y=\"572.0\"><tspan class=\"displacy-word\" fill=\"currentColor\" x=\"1250\">and</tspan><tspan class=\"displacy-tag\" dy=\"2em\" fill=\"currentColor\" x=\"1250\">CCONJ</tspan></text><text class=\"displacy-token\" fill=\"currentColor\" text-anchor=\"middle\" y=\"572.0\"><tspan class=\"displacy-word\" fill=\"currentColor\" x=\"1400\">sometimes</tspan><tspan class=\"displacy-tag\" dy=\"2em\" fill=\"currentColor\" x=\"1400\">ADV</tspan></text><text class=\"displacy-token\" fill=\"currentColor\" text-anchor=\"middle\" y=\"572.0\"><tspan class=\"displacy-word\" fill=\"currentColor\" x=\"1550\">as</tspan><tspan class=\"displacy-tag\" dy=\"2em\" fill=\"currentColor\" x=\"1550\">ADP</tspan></text><text class=\"displacy-token\" fill=\"currentColor\" text-anchor=\"middle\" y=\"572.0\"><tspan class=\"displacy-word\" fill=\"currentColor\" x=\"1700\">a</tspan><tspan class=\"displacy-tag\" dy=\"2em\" fill=\"currentColor\" x=\"1700\">DET</tspan></text><text class=\"displacy-token\" fill=\"currentColor\" text-anchor=\"middle\" y=\"572.0\"><tspan class=\"displacy-word\" fill=\"currentColor\" x=\"1850\">singer</tspan><tspan class=\"displacy-tag\" dy=\"2em\" fill=\"currentColor\" x=\"1850\">NOUN</tspan></text><text class=\"displacy-token\" fill=\"currentColor\" text-anchor=\"middle\" y=\"572.0\"><tspan class=\"displacy-word\" fill=\"currentColor\" x=\"2000\">.</tspan><tspan class=\"displacy-tag\" dy=\"2em\" fill=\"currentColor\" x=\"2000\">PUNCT</tspan></text><text class=\"displacy-token\" fill=\"currentColor\" text-anchor=\"middle\" y=\"572.0\"><tspan class=\"displacy-word\" fill=\"currentColor\" x=\"2150\">He</tspan><tspan class=\"displacy-tag\" dy=\"2em\" fill=\"currentColor\" x=\"2150\">PRON</tspan></text><text class=\"displacy-token\" fill=\"currentColor\" text-anchor=\"middle\" y=\"572.0\"><tspan class=\"displacy-word\" fill=\"currentColor\" x=\"2300\">lives</tspan><tspan class=\"displacy-tag\" dy=\"2em\" fill=\"currentColor\" x=\"2300\">VERB</tspan></text><text class=\"displacy-token\" fill=\"currentColor\" text-anchor=\"middle\" y=\"572.0\"><tspan class=\"displacy-word\" fill=\"currentColor\" x=\"2450\">in</tspan><tspan class=\"displacy-tag\" dy=\"2em\" fill=\"currentColor\" x=\"2450\">ADP</tspan></text><text class=\"displacy-token\" fill=\"currentColor\" text-anchor=\"middle\" y=\"572.0\"><tspan class=\"displacy-word\" fill=\"currentColor\" x=\"2600\">a</tspan><tspan class=\"displacy-tag\" dy=\"2em\" fill=\"currentColor\" x=\"2600\">DET</tspan></text><text class=\"displacy-token\" fill=\"currentColor\" text-anchor=\"middle\" y=\"572.0\"><tspan class=\"displacy-word\" fill=\"currentColor\" x=\"2750\">castle</tspan><tspan class=\"displacy-tag\" dy=\"2em\" fill=\"currentColor\" x=\"2750\">NOUN</tspan></text><text class=\"displacy-token\" fill=\"currentColor\" text-anchor=\"middle\" y=\"572.0\"><tspan class=\"displacy-word\" fill=\"currentColor\" x=\"2900\">in</tspan><tspan class=\"displacy-tag\" dy=\"2em\" fill=\"currentColor\" x=\"2900\">ADP</tspan></text><text class=\"displacy-token\" fill=\"currentColor\" text-anchor=\"middle\" y=\"572.0\"><tspan class=\"displacy-word\" fill=\"currentColor\" x=\"3050\">Coventry</tspan><tspan class=\"displacy-tag\" dy=\"2em\" fill=\"currentColor\" x=\"3050\">PROPN</tspan></text><text class=\"displacy-token\" fill=\"currentColor\" text-anchor=\"middle\" y=\"572.0\"><tspan class=\"displacy-word\" fill=\"currentColor\" x=\"3200\">.</tspan><tspan class=\"displacy-tag\" dy=\"2em\" fill=\"currentColor\" x=\"3200\">PUNCT</tspan></text><g class=\"displacy-arrow\"><path class=\"displacy-arc\" id=\"arrow-83b77949c32248319d1baf0ce16dd1ac-0-0\" stroke-width=\"2px\" d=\"M62,527.0 62,502.0 182.0,502.0 182.0,527.0\" fill=\"none\" stroke=\"currentColor\"/><text dy=\"1.25em\" style=\"font-size: 0.8em; letter-spacing: 1px\"><textPath xlink:href=\"#arrow-83b77949c32248319d1baf0ce16dd1ac-0-0\" class=\"displacy-label\" startOffset=\"50%\" side=\"left\" fill=\"currentColor\" text-anchor=\"middle\">nsubj</textPath></text><path class=\"displacy-arrowhead\" d=\"M62,529.0 L58,521.0 66,521.0\" fill=\"currentColor\"/></g><g class=\"displacy-arrow\"><path class=\"displacy-arc\" id=\"arrow-83b77949c32248319d1baf0ce16dd1ac-0-1\" stroke-width=\"2px\" d=\"M212,527.0 212,502.0 332.0,502.0 332.0,527.0\" fill=\"none\" stroke=\"currentColor\"/><text dy=\"1.25em\" style=\"font-size: 0.8em; letter-spacing: 1px\"><textPath xlink:href=\"#arrow-83b77949c32248319d1baf0ce16dd1ac-0-1\" class=\"displacy-label\" startOffset=\"50%\" side=\"left\" fill=\"currentColor\" text-anchor=\"middle\">prep</textPath></text><path class=\"displacy-arrowhead\" d=\"M332.0,529.0 L336.0,521.0 328.0,521.0\" fill=\"currentColor\"/></g><g class=\"displacy-arrow\"><path class=\"displacy-arc\" id=\"arrow-83b77949c32248319d1baf0ce16dd1ac-0-2\" stroke-width=\"2px\" d=\"M512,527.0 512,502.0 632.0,502.0 632.0,527.0\" fill=\"none\" stroke=\"currentColor\"/><text dy=\"1.25em\" style=\"font-size: 0.8em; letter-spacing: 1px\"><textPath xlink:href=\"#arrow-83b77949c32248319d1baf0ce16dd1ac-0-2\" class=\"displacy-label\" startOffset=\"50%\" side=\"left\" fill=\"currentColor\" text-anchor=\"middle\">compound</textPath></text><path class=\"displacy-arrowhead\" d=\"M512,529.0 L508,521.0 516,521.0\" fill=\"currentColor\"/></g><g class=\"displacy-arrow\"><path class=\"displacy-arc\" id=\"arrow-83b77949c32248319d1baf0ce16dd1ac-0-3\" stroke-width=\"2px\" d=\"M362,527.0 362,477.0 635.0,477.0 635.0,527.0\" fill=\"none\" stroke=\"currentColor\"/><text dy=\"1.25em\" style=\"font-size: 0.8em; letter-spacing: 1px\"><textPath xlink:href=\"#arrow-83b77949c32248319d1baf0ce16dd1ac-0-3\" class=\"displacy-label\" startOffset=\"50%\" side=\"left\" fill=\"currentColor\" text-anchor=\"middle\">pobj</textPath></text><path class=\"displacy-arrowhead\" d=\"M635.0,529.0 L639.0,521.0 631.0,521.0\" fill=\"currentColor\"/></g><g class=\"displacy-arrow\"><path class=\"displacy-arc\" id=\"arrow-83b77949c32248319d1baf0ce16dd1ac-0-4\" stroke-width=\"2px\" d=\"M212,527.0 212,452.0 788.0,452.0 788.0,527.0\" fill=\"none\" stroke=\"currentColor\"/><text dy=\"1.25em\" style=\"font-size: 0.8em; letter-spacing: 1px\"><textPath xlink:href=\"#arrow-83b77949c32248319d1baf0ce16dd1ac-0-4\" class=\"displacy-label\" startOffset=\"50%\" side=\"left\" fill=\"currentColor\" text-anchor=\"middle\">prep</textPath></text><path class=\"displacy-arrowhead\" d=\"M788.0,529.0 L792.0,521.0 784.0,521.0\" fill=\"currentColor\"/></g><g class=\"displacy-arrow\"><path class=\"displacy-arc\" id=\"arrow-83b77949c32248319d1baf0ce16dd1ac-0-5\" stroke-width=\"2px\" d=\"M962,527.0 962,502.0 1082.0,502.0 1082.0,527.0\" fill=\"none\" stroke=\"currentColor\"/><text dy=\"1.25em\" style=\"font-size: 0.8em; letter-spacing: 1px\"><textPath xlink:href=\"#arrow-83b77949c32248319d1baf0ce16dd1ac-0-5\" class=\"displacy-label\" startOffset=\"50%\" side=\"left\" fill=\"currentColor\" text-anchor=\"middle\">det</textPath></text><path class=\"displacy-arrowhead\" d=\"M962,529.0 L958,521.0 966,521.0\" fill=\"currentColor\"/></g><g class=\"displacy-arrow\"><path class=\"displacy-arc\" id=\"arrow-83b77949c32248319d1baf0ce16dd1ac-0-6\" stroke-width=\"2px\" d=\"M812,527.0 812,477.0 1085.0,477.0 1085.0,527.0\" fill=\"none\" stroke=\"currentColor\"/><text dy=\"1.25em\" style=\"font-size: 0.8em; letter-spacing: 1px\"><textPath xlink:href=\"#arrow-83b77949c32248319d1baf0ce16dd1ac-0-6\" class=\"displacy-label\" startOffset=\"50%\" side=\"left\" fill=\"currentColor\" text-anchor=\"middle\">pobj</textPath></text><path class=\"displacy-arrowhead\" d=\"M1085.0,529.0 L1089.0,521.0 1081.0,521.0\" fill=\"currentColor\"/></g><g class=\"displacy-arrow\"><path class=\"displacy-arc\" id=\"arrow-83b77949c32248319d1baf0ce16dd1ac-0-7\" stroke-width=\"2px\" d=\"M212,527.0 212,402.0 1244.0,402.0 1244.0,527.0\" fill=\"none\" stroke=\"currentColor\"/><text dy=\"1.25em\" style=\"font-size: 0.8em; letter-spacing: 1px\"><textPath xlink:href=\"#arrow-83b77949c32248319d1baf0ce16dd1ac-0-7\" class=\"displacy-label\" startOffset=\"50%\" side=\"left\" fill=\"currentColor\" text-anchor=\"middle\">cc</textPath></text><path class=\"displacy-arrowhead\" d=\"M1244.0,529.0 L1248.0,521.0 1240.0,521.0\" fill=\"currentColor\"/></g><g class=\"displacy-arrow\"><path class=\"displacy-arc\" id=\"arrow-83b77949c32248319d1baf0ce16dd1ac-0-8\" stroke-width=\"2px\" d=\"M1412,527.0 1412,502.0 1532.0,502.0 1532.0,527.0\" fill=\"none\" stroke=\"currentColor\"/><text dy=\"1.25em\" style=\"font-size: 0.8em; letter-spacing: 1px\"><textPath xlink:href=\"#arrow-83b77949c32248319d1baf0ce16dd1ac-0-8\" class=\"displacy-label\" startOffset=\"50%\" side=\"left\" fill=\"currentColor\" text-anchor=\"middle\">advmod</textPath></text><path class=\"displacy-arrowhead\" d=\"M1412,529.0 L1408,521.0 1416,521.0\" fill=\"currentColor\"/></g><g class=\"displacy-arrow\"><path class=\"displacy-arc\" id=\"arrow-83b77949c32248319d1baf0ce16dd1ac-0-9\" stroke-width=\"2px\" d=\"M212,527.0 212,377.0 1547.0,377.0 1547.0,527.0\" fill=\"none\" stroke=\"currentColor\"/><text dy=\"1.25em\" style=\"font-size: 0.8em; letter-spacing: 1px\"><textPath xlink:href=\"#arrow-83b77949c32248319d1baf0ce16dd1ac-0-9\" class=\"displacy-label\" startOffset=\"50%\" side=\"left\" fill=\"currentColor\" text-anchor=\"middle\">conj</textPath></text><path class=\"displacy-arrowhead\" d=\"M1547.0,529.0 L1551.0,521.0 1543.0,521.0\" fill=\"currentColor\"/></g><g class=\"displacy-arrow\"><path class=\"displacy-arc\" id=\"arrow-83b77949c32248319d1baf0ce16dd1ac-0-10\" stroke-width=\"2px\" d=\"M1712,527.0 1712,502.0 1832.0,502.0 1832.0,527.0\" fill=\"none\" stroke=\"currentColor\"/><text dy=\"1.25em\" style=\"font-size: 0.8em; letter-spacing: 1px\"><textPath xlink:href=\"#arrow-83b77949c32248319d1baf0ce16dd1ac-0-10\" class=\"displacy-label\" startOffset=\"50%\" side=\"left\" fill=\"currentColor\" text-anchor=\"middle\">det</textPath></text><path class=\"displacy-arrowhead\" d=\"M1712,529.0 L1708,521.0 1716,521.0\" fill=\"currentColor\"/></g><g class=\"displacy-arrow\"><path class=\"displacy-arc\" id=\"arrow-83b77949c32248319d1baf0ce16dd1ac-0-11\" stroke-width=\"2px\" d=\"M1562,527.0 1562,477.0 1835.0,477.0 1835.0,527.0\" fill=\"none\" stroke=\"currentColor\"/><text dy=\"1.25em\" style=\"font-size: 0.8em; letter-spacing: 1px\"><textPath xlink:href=\"#arrow-83b77949c32248319d1baf0ce16dd1ac-0-11\" class=\"displacy-label\" startOffset=\"50%\" side=\"left\" fill=\"currentColor\" text-anchor=\"middle\">pobj</textPath></text><path class=\"displacy-arrowhead\" d=\"M1835.0,529.0 L1839.0,521.0 1831.0,521.0\" fill=\"currentColor\"/></g><g class=\"displacy-arrow\"><path class=\"displacy-arc\" id=\"arrow-83b77949c32248319d1baf0ce16dd1ac-0-12\" stroke-width=\"2px\" d=\"M212,527.0 212,352.0 2000.0,352.0 2000.0,527.0\" fill=\"none\" stroke=\"currentColor\"/><text dy=\"1.25em\" style=\"font-size: 0.8em; letter-spacing: 1px\"><textPath xlink:href=\"#arrow-83b77949c32248319d1baf0ce16dd1ac-0-12\" class=\"displacy-label\" startOffset=\"50%\" side=\"left\" fill=\"currentColor\" text-anchor=\"middle\">punct</textPath></text><path class=\"displacy-arrowhead\" d=\"M2000.0,529.0 L2004.0,521.0 1996.0,521.0\" fill=\"currentColor\"/></g><g class=\"displacy-arrow\"><path class=\"displacy-arc\" id=\"arrow-83b77949c32248319d1baf0ce16dd1ac-0-13\" stroke-width=\"2px\" d=\"M2162,527.0 2162,502.0 2282.0,502.0 2282.0,527.0\" fill=\"none\" stroke=\"currentColor\"/><text dy=\"1.25em\" style=\"font-size: 0.8em; letter-spacing: 1px\"><textPath xlink:href=\"#arrow-83b77949c32248319d1baf0ce16dd1ac-0-13\" class=\"displacy-label\" startOffset=\"50%\" side=\"left\" fill=\"currentColor\" text-anchor=\"middle\">nsubj</textPath></text><path class=\"displacy-arrowhead\" d=\"M2162,529.0 L2158,521.0 2166,521.0\" fill=\"currentColor\"/></g><g class=\"displacy-arrow\"><path class=\"displacy-arc\" id=\"arrow-83b77949c32248319d1baf0ce16dd1ac-0-14\" stroke-width=\"2px\" d=\"M2312,527.0 2312,502.0 2432.0,502.0 2432.0,527.0\" fill=\"none\" stroke=\"currentColor\"/><text dy=\"1.25em\" style=\"font-size: 0.8em; letter-spacing: 1px\"><textPath xlink:href=\"#arrow-83b77949c32248319d1baf0ce16dd1ac-0-14\" class=\"displacy-label\" startOffset=\"50%\" side=\"left\" fill=\"currentColor\" text-anchor=\"middle\">prep</textPath></text><path class=\"displacy-arrowhead\" d=\"M2432.0,529.0 L2436.0,521.0 2428.0,521.0\" fill=\"currentColor\"/></g><g class=\"displacy-arrow\"><path class=\"displacy-arc\" id=\"arrow-83b77949c32248319d1baf0ce16dd1ac-0-15\" stroke-width=\"2px\" d=\"M2612,527.0 2612,502.0 2732.0,502.0 2732.0,527.0\" fill=\"none\" stroke=\"currentColor\"/><text dy=\"1.25em\" style=\"font-size: 0.8em; letter-spacing: 1px\"><textPath xlink:href=\"#arrow-83b77949c32248319d1baf0ce16dd1ac-0-15\" class=\"displacy-label\" startOffset=\"50%\" side=\"left\" fill=\"currentColor\" text-anchor=\"middle\">det</textPath></text><path class=\"displacy-arrowhead\" d=\"M2612,529.0 L2608,521.0 2616,521.0\" fill=\"currentColor\"/></g><g class=\"displacy-arrow\"><path class=\"displacy-arc\" id=\"arrow-83b77949c32248319d1baf0ce16dd1ac-0-16\" stroke-width=\"2px\" d=\"M2462,527.0 2462,477.0 2735.0,477.0 2735.0,527.0\" fill=\"none\" stroke=\"currentColor\"/><text dy=\"1.25em\" style=\"font-size: 0.8em; letter-spacing: 1px\"><textPath xlink:href=\"#arrow-83b77949c32248319d1baf0ce16dd1ac-0-16\" class=\"displacy-label\" startOffset=\"50%\" side=\"left\" fill=\"currentColor\" text-anchor=\"middle\">pobj</textPath></text><path class=\"displacy-arrowhead\" d=\"M2735.0,529.0 L2739.0,521.0 2731.0,521.0\" fill=\"currentColor\"/></g><g class=\"displacy-arrow\"><path class=\"displacy-arc\" id=\"arrow-83b77949c32248319d1baf0ce16dd1ac-0-17\" stroke-width=\"2px\" d=\"M2762,527.0 2762,502.0 2882.0,502.0 2882.0,527.0\" fill=\"none\" stroke=\"currentColor\"/><text dy=\"1.25em\" style=\"font-size: 0.8em; letter-spacing: 1px\"><textPath xlink:href=\"#arrow-83b77949c32248319d1baf0ce16dd1ac-0-17\" class=\"displacy-label\" startOffset=\"50%\" side=\"left\" fill=\"currentColor\" text-anchor=\"middle\">prep</textPath></text><path class=\"displacy-arrowhead\" d=\"M2882.0,529.0 L2886.0,521.0 2878.0,521.0\" fill=\"currentColor\"/></g><g class=\"displacy-arrow\"><path class=\"displacy-arc\" id=\"arrow-83b77949c32248319d1baf0ce16dd1ac-0-18\" stroke-width=\"2px\" d=\"M2912,527.0 2912,502.0 3032.0,502.0 3032.0,527.0\" fill=\"none\" stroke=\"currentColor\"/><text dy=\"1.25em\" style=\"font-size: 0.8em; letter-spacing: 1px\"><textPath xlink:href=\"#arrow-83b77949c32248319d1baf0ce16dd1ac-0-18\" class=\"displacy-label\" startOffset=\"50%\" side=\"left\" fill=\"currentColor\" text-anchor=\"middle\">pobj</textPath></text><path class=\"displacy-arrowhead\" d=\"M3032.0,529.0 L3036.0,521.0 3028.0,521.0\" fill=\"currentColor\"/></g><g class=\"displacy-arrow\"><path class=\"displacy-arc\" id=\"arrow-83b77949c32248319d1baf0ce16dd1ac-0-19\" stroke-width=\"2px\" d=\"M2312,527.0 2312,427.0 3191.0,427.0 3191.0,527.0\" fill=\"none\" stroke=\"currentColor\"/><text dy=\"1.25em\" style=\"font-size: 0.8em; letter-spacing: 1px\"><textPath xlink:href=\"#arrow-83b77949c32248319d1baf0ce16dd1ac-0-19\" class=\"displacy-label\" startOffset=\"50%\" side=\"left\" fill=\"currentColor\" text-anchor=\"middle\">punct</textPath></text><path class=\"displacy-arrowhead\" d=\"M3191.0,529.0 L3195.0,521.0 3187.0,521.0\" fill=\"currentColor\"/></g></svg></span>"
      ],
      "text/plain": [
       "<IPython.core.display.HTML object>"
      ]
     },
     "metadata": {},
     "output_type": "display_data"
    }
   ],
   "source": [
    "displacy_options_dep = {\n",
    "    'font': 'Gill Sans',\n",
    "    'color': '#515C99',\n",
    "    'compact': True,\n",
    "    'collapse_punct': False,\n",
    "}\n",
    "html_dep = displacy.render(\n",
    "    doc,\n",
    "    minify = True,\n",
    "    style = 'dep',\n",
    "    options = displacy_options_dep,\n",
    ")"
   ]
  },
  {
   "cell_type": "code",
   "execution_count": 11,
   "id": "db3a51b8-4428-4022-bf4a-84966e505cb0",
   "metadata": {},
   "outputs": [
    {
     "data": {
      "text/html": [
       "\n",
       "        <iframe\n",
       "            width=\"100%\"\n",
       "            height=\"1000px\"\n",
       "            src=\"images/graph.html\"\n",
       "            frameborder=\"0\"\n",
       "            allowfullscreen\n",
       "        ></iframe>\n",
       "        "
      ],
      "text/plain": [
       "<IPython.lib.display.IFrame at 0x7fda02dfca90>"
      ]
     },
     "metadata": {},
     "output_type": "display_data"
    }
   ],
   "source": [
    "g_pyvis = Network(\n",
    "    directed = True,\n",
    "    notebook = True,\n",
    "    width = '100%',\n",
    "    height = '100%',\n",
    ")\n",
    "g_pyvis.prep_notebook()\n",
    "g_pyvis.force_atlas_2based(\n",
    "    gravity = -100,\n",
    "    central_gravity = 0.005,\n",
    "    spring_length = 50,\n",
    "    spring_strength = 0.1,\n",
    "    damping = 2.0,\n",
    "    overlap = 0.5,\n",
    ")\n",
    "\n",
    "for token in doc:\n",
    "    label = \\\n",
    "        str(token.i) + \\\n",
    "        ': ' + \\\n",
    "        str(token.idx) + \\\n",
    "        ': ' + \\\n",
    "        token.pos_ + \\\n",
    "        ': ' + \\\n",
    "        (\n",
    "            (token.ent_type_ + ': ')\n",
    "            if (token.ent_type_)\n",
    "            else ''\n",
    "        ) + \\\n",
    "        token.text\n",
    "    g_pyvis.add_node(\n",
    "        token.i,\n",
    "        label = label,\n",
    "        title = label,\n",
    "        font = '14px gillsans #424242',\n",
    "        color = displacy_options_ent['colors'][token.ent_type_],\n",
    "    )\n",
    "\n",
    "for token in doc:\n",
    "    for child in token.children:\n",
    "        g_pyvis.add_edge(\n",
    "            token.i,\n",
    "            child.i,\n",
    "            label = child.dep_,\n",
    "            title = child.dep_,\n",
    "            font = '12px gillsans-italic #A9A9A9',\n",
    "        )\n",
    "\n",
    "g_pyvis.show('images/graph.html')\n",
    "display(\n",
    "    IFrame(\n",
    "        'images/graph.html',\n",
    "        width = '100%',\n",
    "        height = '1000px',\n",
    "    ),\n",
    ")"
   ]
  },
  {
   "cell_type": "code",
   "execution_count": 12,
   "id": "383b22cd-c400-4a18-b860-e65294ccda34",
   "metadata": {
    "scrolled": false,
    "tags": []
   },
   "outputs": [
    {
     "data": {
      "application/vnd.jupyter.widget-view+json": {
       "model_id": "e0c74ea0a59745b6a073682680b38ffe",
       "version_major": 2,
       "version_minor": 0
      },
      "text/plain": [
       "QgridWidget(grid_options={'fullWidthRows': True, 'syncColumnCellResize': True, 'forceFitColumns': True, 'defau…"
      ]
     },
     "metadata": {},
     "output_type": "display_data"
    }
   ],
   "source": [
    "df = pd.DataFrame(\n",
    "    [\n",
    "        [\n",
    "            token.i,\n",
    "            token.idx,\n",
    "            token.text,\n",
    "            token.lemma_,\n",
    "            token.shape_,\n",
    "            token.pos_,\n",
    "            token.tag_,\n",
    "            token.dep_,\n",
    "            token.ent_iob_,\n",
    "            token.ent_type_,\n",
    "            token.head,\n",
    "            [(child.i, child.idx, child.text) for child in token.children],\n",
    "            token.is_punct,\n",
    "        ]\n",
    "        for token in doc\n",
    "    ],\n",
    "    columns = [\n",
    "        'idx token',\n",
    "        'idx char',\n",
    "        'Text',\n",
    "        'Lemma',\n",
    "        'Shape',\n",
    "        'POS coarse',\n",
    "        'POS fine',\n",
    "        'Dependency',\n",
    "        'Ent IOB',\n",
    "        'Ent type',\n",
    "        'Head',\n",
    "        'Children',\n",
    "        'is punct',\n",
    "    ],\n",
    ")\n",
    "qgrid_widget = qgrid.show_grid(\n",
    "    df,\n",
    "#     grid_options={\n",
    "#         'enableColumnReorder': True,\n",
    "#     },\n",
    "#     show_toolbar = True, # This gives a full-screen button, but also add/remove row buttons which we don't want ...\n",
    ")\n",
    "display(qgrid_widget)"
   ]
  }
 ],
 "metadata": {
  "kernelspec": {
   "display_name": "Python 3",
   "language": "python",
   "name": "python3"
  },
  "language_info": {
   "codemirror_mode": {
    "name": "ipython",
    "version": 3
   },
   "file_extension": ".py",
   "mimetype": "text/x-python",
   "name": "python",
   "nbconvert_exporter": "python",
   "pygments_lexer": "ipython3",
   "version": "3.8.5"
  }
 },
 "nbformat": 4,
 "nbformat_minor": 5
}
